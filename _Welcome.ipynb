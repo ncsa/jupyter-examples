{
 "cells": [
  {
   "cell_type": "markdown",
   "id": "45134f7e-3c7e-4144-92c5-0334f333591b",
   "metadata": {},
   "source": [
    "<h1><center>Welcome to ICRN</center></h1>\n",
    "\n",
    "View the [ICRN documentation](https://docs.ncsa.illinois.edu/systems/icrn/en/latest/).\n",
    "\n",
    "If you have questions that aren't addressed by the documentation, [submit a ticket](https://docs.ncsa.illinois.edu/systems/icrn/en/latest/help.html)."
   ]
  },
  {
   "cell_type": "code",
   "execution_count": null,
   "id": "2b8bf498-5fcc-4834-b8d3-dd68285d5e5a",
   "metadata": {},
   "outputs": [],
   "source": []
  }
 ],
 "metadata": {
  "kernelspec": {
   "display_name": "Python 3 (ipykernel)",
   "language": "python",
   "name": "python3"
  },
  "language_info": {
   "codemirror_mode": {
    "name": "ipython",
    "version": 3
   },
   "file_extension": ".py",
   "mimetype": "text/x-python",
   "name": "python",
   "nbconvert_exporter": "python",
   "pygments_lexer": "ipython3",
   "version": "3.11.5"
  }
 },
 "nbformat": 4,
 "nbformat_minor": 5
}