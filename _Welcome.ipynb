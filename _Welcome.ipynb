{
 "cells": [
  {
   "cell_type": "markdown",
   "id": "45134f7e-3c7e-4144-92c5-0334f333591b",
   "metadata": {},
   "source": [
    "# <center>Welcome to ICRN</center>\n",
    "\n",
    "Refer to the [ICRN user documentation](https://docs.ncsa.illinois.edu/systems/icrn/en/latest/) for information about the system and how to use it.\n",
    "If you have questions that aren't addressed by the documentation, [submit a ticket](https://docs.ncsa.illinois.edu/systems/icrn/en/latest/help.html)."
   ]
  },
  {
   "cell_type": "markdown",
   "id": "90a70f2e-9b1f-463e-a544-bc3c237decfb",
   "metadata": {},
   "source": [
    "## <center>Introduction to Jupyter Notebook Tutorial</center>\n",
    "The following tutorial will walk you through some of the basic Jupyter Notebook functions. These examples only scratch the surface of what can be done. You can find [Jupyter Notebook turorials](https://www.google.com/search?q=jupyter+notebook+tutorials) in various formats online."
   ]
  },
  {
   "cell_type": "markdown",
   "id": "4f64dc08-ce45-4467-a865-d1531efabf07",
   "metadata": {},
   "source": [
    "### Hello World Example\n",
    "In this example, you will print the classic Hello World! message.\n",
    "\n",
    "1. Type (or copy) the following into the empty cell below:\n",
    "   \n",
    "   `print('Hello World!')`\n",
    "   \n",
    "3. Run the cell (Shift+Enter).\n",
    "4. Congratulations, you've run your first Jupyter Notebook cell!\n"
   ]
  },
  {
   "cell_type": "code",
   "execution_count": null,
   "id": "e20392d8-7e9b-45d9-a8b4-68f5a5393c3b",
   "metadata": {},
   "outputs": [],
   "source": []
  },
  {
   "cell_type": "markdown",
   "id": "ed753bab-2cab-46a0-a9ab-fe856f327ca3",
   "metadata": {},
   "source": [
    "### Basic Variables Example\n",
    "In this example, you will assign values to variables, use those variables to perform an operation, and print the result. \n",
    "\n",
    "1. Type (or copy) the following into the empty cell below:\n",
    "\n",
    "   ```\n",
    "   x = 8\n",
    "   y = 10\n",
    "   print(x+y)\n",
    "   ```\n",
    "   <br>\n",
    "\n",
    "2. Run the cell (Shift+Enter)\n",
    "\n",
    "3. Try modifying the cell (and re-running it) to complete more complex operations."
   ]
  },
  {
   "cell_type": "code",
   "execution_count": null,
   "id": "31b25661-15c6-4adc-afca-54991a904836",
   "metadata": {},
   "outputs": [],
   "source": []
  },
  {
   "cell_type": "markdown",
   "id": "1bc96647-ee76-444a-8bbb-337c7bd3e6bd",
   "metadata": {},
   "source": [
    "### Markdown Example\n",
    "In this example, you will enter [markdown](https://www.markdownguide.org/basic-syntax/) content into a cell. This is a particularly useful function of Jupyter Notebook that allows you to include executable code and narrative content in the same location!\n",
    "\n",
    "1. Click into the empty cell below.\n",
    "2. In the 'cell type' menu a the top of the notebook window, change the selection from 'Code' to 'Markdown'.\n",
    "3. Type (or copy) the following into the cell:\n",
    "\n",
    "   ```\n",
    "   # This is my first heading\n",
    "   \n",
    "   This is my first paragraph\n",
    "   ```\n",
    "   <br>\n",
    "\n",
    "3. Run the cell (Shift+Enter).\n",
    "\n",
    "   If you get an error when you run the cell, verify that you changed the cell type from 'Code' to 'Markdown'."
   ]
  },
  {
   "cell_type": "code",
   "execution_count": null,
   "id": "f6088014-db11-497b-a0cd-7a0098236a63",
   "metadata": {},
   "outputs": [],
   "source": []
  },
  {
   "cell_type": "markdown",
   "id": "03516003-d23d-4ce8-99d6-d7700e8d5376",
   "metadata": {},
   "source": [
    "### Matplotlib Example\n",
    "\n",
    "In this example, you will plot data using the [matplotlib](https://matplotlib.org/) and [numpy](https://numpy.org/) packages. \n",
    "\n",
    "Before you can use matplotlib or numpy, you need to install them. To install them, run (Shift+Enter) the two `pip install` cells below."
   ]
  },
  {
   "cell_type": "code",
   "execution_count": null,
   "id": "bd4df1ed-5d32-40c0-82f1-054889d130d4",
   "metadata": {},
   "outputs": [],
   "source": [
    "pip install matplotlib"
   ]
  },
  {
   "cell_type": "code",
   "execution_count": null,
   "id": "b96a7210-1af4-4260-85ba-2a43cc91dab9",
   "metadata": {},
   "outputs": [],
   "source": [
    "pip install numpy"
   ]
  },
  {
   "cell_type": "markdown",
   "id": "7d01435c-d420-4c29-ade0-f8f2cf055884",
   "metadata": {},
   "source": [
    "After matplotlib and numpy are finished installing:\n",
    "1. Type (or copy) the following into the empty cell below:\n",
    "   \n",
    "   ```\n",
    "   from matplotlib import pyplot as plt\n",
    "   import numpy as np\n",
    "   %matplotlib inline\n",
    "   x=np.arange(0, 10)\n",
    "   y=(x*2)\n",
    "   fig=plt.figure()\n",
    "   ax=fig.add_axes([0,0,1,1])\n",
    "   ax.plot(x,y)\n",
    "   ax.set_title('line with a slope of 2')\n",
    "   ax.set_xlabel('run')\n",
    "   ax.set_ylabel('rise')\n",
    "   ```\n",
    "   <br>\n",
    "\n",
    "2. Run the cell (Shift+Enter)\n",
    "\n",
    "3. Congratulations, you've made your first plot in a notebook!"
   ]
  },
  {
   "cell_type": "code",
   "execution_count": null,
   "id": "590328ab-7db0-477d-a02c-ce068d45e8fd",
   "metadata": {},
   "outputs": [],
   "source": []
  }
 ],
 "metadata": {
  "kernelspec": {
   "display_name": "Python 3 (ipykernel)",
   "language": "python",
   "name": "python3"
  },
  "language_info": {
   "codemirror_mode": {
    "name": "ipython",
    "version": 3
   },
   "file_extension": ".py",
   "mimetype": "text/x-python",
   "name": "python",
   "nbconvert_exporter": "python",
   "pygments_lexer": "ipython3",
   "version": "3.11.6"
  }
 },
 "nbformat": 4,
 "nbformat_minor": 5
}
